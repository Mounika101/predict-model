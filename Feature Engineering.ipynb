{
  "cells": [
    {
      "cell_type": "markdown",
      "id": "e29a45cf",
      "metadata": {
        "id": "e29a45cf"
      },
      "source": [
        "## Feature Engineering"
      ]
    },
    {
      "cell_type": "code",
      "execution_count": 12,
      "id": "f057f48b",
      "metadata": {
        "colab": {
          "base_uri": "https://localhost:8080/"
        },
        "id": "f057f48b",
        "outputId": "570ca88d-8758-4fcf-94fc-388302c5fadd"
      },
      "outputs": [
        {
          "output_type": "stream",
          "name": "stdout",
          "text": [
            "Unique Value Counts in Each Column:\n",
            "age                 76\n",
            "job                 11\n",
            "marital              3\n",
            "education            7\n",
            "default              2\n",
            "housing              2\n",
            "loan                 2\n",
            "contact              2\n",
            "month               10\n",
            "day_of_week          5\n",
            "duration          1441\n",
            "campaign            41\n",
            "previous             8\n",
            "emp.var.rate        10\n",
            "cons.price.idx      26\n",
            "cons.conf.idx       26\n",
            "euribor3m          314\n",
            "nr.employed         11\n",
            "subscribed           2\n",
            "dtype: int64\n"
          ]
        }
      ],
      "source": [
        "# Count unique values in all columns\n",
        "unique_counts = data_temp.nunique()\n",
        "\n",
        "# Display the results\n",
        "print(\"Unique Value Counts in Each Column:\")\n",
        "print(unique_counts)"
      ]
    },
    {
      "cell_type": "code",
      "execution_count": 13,
      "id": "bcc18333",
      "metadata": {
        "colab": {
          "base_uri": "https://localhost:8080/"
        },
        "id": "bcc18333",
        "outputId": "e520e163-4894-4a93-dce7-d1a7cd470e4f"
      },
      "outputs": [
        {
          "output_type": "stream",
          "name": "stderr",
          "text": [
            "<ipython-input-13-88d30743030b>:10: SettingWithCopyWarning: \n",
            "A value is trying to be set on a copy of a slice from a DataFrame.\n",
            "Try using .loc[row_indexer,col_indexer] = value instead\n",
            "\n",
            "See the caveats in the documentation: https://pandas.pydata.org/pandas-docs/stable/user_guide/indexing.html#returning-a-view-versus-a-copy\n",
            "  data_temp[column] = label_encoder.fit_transform(data_temp[column])\n",
            "<ipython-input-13-88d30743030b>:10: SettingWithCopyWarning: \n",
            "A value is trying to be set on a copy of a slice from a DataFrame.\n",
            "Try using .loc[row_indexer,col_indexer] = value instead\n",
            "\n",
            "See the caveats in the documentation: https://pandas.pydata.org/pandas-docs/stable/user_guide/indexing.html#returning-a-view-versus-a-copy\n",
            "  data_temp[column] = label_encoder.fit_transform(data_temp[column])\n",
            "<ipython-input-13-88d30743030b>:10: SettingWithCopyWarning: \n",
            "A value is trying to be set on a copy of a slice from a DataFrame.\n",
            "Try using .loc[row_indexer,col_indexer] = value instead\n",
            "\n",
            "See the caveats in the documentation: https://pandas.pydata.org/pandas-docs/stable/user_guide/indexing.html#returning-a-view-versus-a-copy\n",
            "  data_temp[column] = label_encoder.fit_transform(data_temp[column])\n",
            "<ipython-input-13-88d30743030b>:10: SettingWithCopyWarning: \n",
            "A value is trying to be set on a copy of a slice from a DataFrame.\n",
            "Try using .loc[row_indexer,col_indexer] = value instead\n",
            "\n",
            "See the caveats in the documentation: https://pandas.pydata.org/pandas-docs/stable/user_guide/indexing.html#returning-a-view-versus-a-copy\n",
            "  data_temp[column] = label_encoder.fit_transform(data_temp[column])\n",
            "<ipython-input-13-88d30743030b>:10: SettingWithCopyWarning: \n",
            "A value is trying to be set on a copy of a slice from a DataFrame.\n",
            "Try using .loc[row_indexer,col_indexer] = value instead\n",
            "\n",
            "See the caveats in the documentation: https://pandas.pydata.org/pandas-docs/stable/user_guide/indexing.html#returning-a-view-versus-a-copy\n",
            "  data_temp[column] = label_encoder.fit_transform(data_temp[column])\n",
            "<ipython-input-13-88d30743030b>:10: SettingWithCopyWarning: \n",
            "A value is trying to be set on a copy of a slice from a DataFrame.\n",
            "Try using .loc[row_indexer,col_indexer] = value instead\n",
            "\n",
            "See the caveats in the documentation: https://pandas.pydata.org/pandas-docs/stable/user_guide/indexing.html#returning-a-view-versus-a-copy\n",
            "  data_temp[column] = label_encoder.fit_transform(data_temp[column])\n",
            "<ipython-input-13-88d30743030b>:10: SettingWithCopyWarning: \n",
            "A value is trying to be set on a copy of a slice from a DataFrame.\n",
            "Try using .loc[row_indexer,col_indexer] = value instead\n",
            "\n",
            "See the caveats in the documentation: https://pandas.pydata.org/pandas-docs/stable/user_guide/indexing.html#returning-a-view-versus-a-copy\n",
            "  data_temp[column] = label_encoder.fit_transform(data_temp[column])\n",
            "<ipython-input-13-88d30743030b>:10: SettingWithCopyWarning: \n",
            "A value is trying to be set on a copy of a slice from a DataFrame.\n",
            "Try using .loc[row_indexer,col_indexer] = value instead\n",
            "\n",
            "See the caveats in the documentation: https://pandas.pydata.org/pandas-docs/stable/user_guide/indexing.html#returning-a-view-versus-a-copy\n",
            "  data_temp[column] = label_encoder.fit_transform(data_temp[column])\n",
            "<ipython-input-13-88d30743030b>:10: SettingWithCopyWarning: \n",
            "A value is trying to be set on a copy of a slice from a DataFrame.\n",
            "Try using .loc[row_indexer,col_indexer] = value instead\n",
            "\n",
            "See the caveats in the documentation: https://pandas.pydata.org/pandas-docs/stable/user_guide/indexing.html#returning-a-view-versus-a-copy\n",
            "  data_temp[column] = label_encoder.fit_transform(data_temp[column])\n"
          ]
        }
      ],
      "source": [
        "# Select categorical columns\n",
        "categorical_columns = data_temp.select_dtypes(include=['object']).columns\n",
        "categorical_columns = categorical_columns[:-1]\n",
        "\n",
        "# Create a label encoder object\n",
        "label_encoder = LabelEncoder()\n",
        "\n",
        "# Iterate through categorical columns and apply label encoding\n",
        "for column in categorical_columns:\n",
        "    data_temp[column] = label_encoder.fit_transform(data_temp[column])"
      ]
    },
    {
      "cell_type": "code",
      "execution_count": 14,
      "id": "7af5a384",
      "metadata": {
        "colab": {
          "base_uri": "https://localhost:8080/"
        },
        "id": "7af5a384",
        "outputId": "91da1885-ce4f-4cfb-f653-20ae5424901c"
      },
      "outputs": [
        {
          "output_type": "stream",
          "name": "stderr",
          "text": [
            "<ipython-input-14-4780cfa17bb7>:2: SettingWithCopyWarning: \n",
            "A value is trying to be set on a copy of a slice from a DataFrame\n",
            "\n",
            "See the caveats in the documentation: https://pandas.pydata.org/pandas-docs/stable/user_guide/indexing.html#returning-a-view-versus-a-copy\n",
            "  data_temp['subscribed'].replace(\"yes\", 1, inplace=True)\n",
            "<ipython-input-14-4780cfa17bb7>:3: SettingWithCopyWarning: \n",
            "A value is trying to be set on a copy of a slice from a DataFrame\n",
            "\n",
            "See the caveats in the documentation: https://pandas.pydata.org/pandas-docs/stable/user_guide/indexing.html#returning-a-view-versus-a-copy\n",
            "  data_temp['subscribed'].replace(\"no\", 0, inplace=True)\n"
          ]
        }
      ],
      "source": [
        "# Encode target variable\n",
        "data_temp['subscribed'].replace(\"yes\", 1, inplace=True)\n",
        "data_temp['subscribed'].replace(\"no\", 0, inplace=True)"
      ]
    },
    {
      "cell_type": "code",
      "execution_count": 16,
      "id": "5547213e",
      "metadata": {
        "id": "5547213e"
      },
      "outputs": [],
      "source": [
        "# Separate features and target\n",
        "X = data_temp.drop('subscribed', axis=1)\n",
        "y = data_temp['subscribed']\n",
        "\n",
        "# Split the data into training and testing sets\n",
        "X_train, X_test, y_train, y_test = train_test_split(X, y, test_size=0.2, random_state=42)"
      ]
    }
  ],
  "metadata": {
    "kernelspec": {
      "display_name": "Python 3 (ipykernel)",
      "language": "python",
      "name": "python3"
    },
    "language_info": {
      "codemirror_mode": {
        "name": "ipython",
        "version": 3
      },
      "file_extension": ".py",
      "mimetype": "text/x-python",
      "name": "python",
      "nbconvert_exporter": "python",
      "pygments_lexer": "ipython3",
      "version": "3.9.7"
    },
    "colab": {
      "provenance": []
    }
  },
  "nbformat": 4,
  "nbformat_minor": 5
}