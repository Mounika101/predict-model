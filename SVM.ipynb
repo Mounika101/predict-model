{
  "cells": [
    {
      "cell_type": "markdown",
      "id": "ddd60eca",
      "metadata": {
        "id": "ddd60eca"
      },
      "source": [
        "## Base SVM Model"
      ]
    },
    {
      "cell_type": "code",
      "execution_count": 15,
      "id": "5a87c33e",
      "metadata": {
        "colab": {
          "base_uri": "https://localhost:8080/"
        },
        "id": "5a87c33e",
        "outputId": "5f160c25-bcb6-421d-bd2c-9fa9c18a7570"
      },
      "outputs": [
        {
          "output_type": "stream",
          "name": "stdout",
          "text": [
            "\n",
            "Support Vector Machine:\n",
            "Accuracy: 0.8732371269268613\n",
            "Classification Report:\n",
            "               precision    recall  f1-score   support\n",
            "\n",
            "           0       0.87      1.00      0.93      5304\n",
            "           1       0.69      0.05      0.09       794\n",
            "\n",
            "    accuracy                           0.87      6098\n",
            "   macro avg       0.78      0.52      0.51      6098\n",
            "weighted avg       0.85      0.87      0.82      6098\n",
            "\n",
            "Confusion Matrix:\n",
            " [[5287   17]\n",
            " [ 756   38]]\n"
          ]
        }
      ],
      "source": [
        "# Support Vector Machine (SVM)\n",
        "svm_model = SVC(random_state=42)\n",
        "svm_model.fit(X_train, y_train)\n",
        "\n",
        "# Predictions\n",
        "svm_predictions = svm_model.predict(X_test)\n",
        "\n",
        "# Evaluate SVM model\n",
        "print(\"\\nSupport Vector Machine:\")\n",
        "print(\"Accuracy:\", accuracy_score(y_test, svm_predictions))\n",
        "print(\"Classification Report:\\n\", classification_report(y_test, svm_predictions))\n",
        "print(\"Confusion Matrix:\\n\", confusion_matrix(y_test, svm_predictions))"
      ]
    }
  ],
  "metadata": {
    "kernelspec": {
      "display_name": "Python 3 (ipykernel)",
      "language": "python",
      "name": "python3"
    },
    "language_info": {
      "codemirror_mode": {
        "name": "ipython",
        "version": 3
      },
      "file_extension": ".py",
      "mimetype": "text/x-python",
      "name": "python",
      "nbconvert_exporter": "python",
      "pygments_lexer": "ipython3",
      "version": "3.9.7"
    },
    "colab": {
      "provenance": []
    }
  },
  "nbformat": 4,
  "nbformat_minor": 5
}