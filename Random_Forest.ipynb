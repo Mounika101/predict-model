{
  "cells": [
    {
      "cell_type": "markdown",
      "id": "e6746382",
      "metadata": {
        "id": "e6746382"
      },
      "source": [
        "## Base Random Forest Model"
      ]
    },
    {
      "cell_type": "code",
      "execution_count": 15,
      "id": "90249e5f",
      "metadata": {
        "colab": {
          "base_uri": "https://localhost:8080/"
        },
        "id": "90249e5f",
        "outputId": "d8e9d213-40f7-413f-8213-af4097c97a6d"
      },
      "outputs": [
        {
          "output_type": "stream",
          "name": "stdout",
          "text": [
            "Random Forest Classifier:\n",
            "Accuracy: 0.9016070842899311\n",
            "Classification Report:\n",
            "               precision    recall  f1-score   support\n",
            "\n",
            "           0       0.93      0.96      0.94      5304\n",
            "           1       0.65      0.54      0.59       794\n",
            "\n",
            "    accuracy                           0.90      6098\n",
            "   macro avg       0.79      0.75      0.77      6098\n",
            "weighted avg       0.90      0.90      0.90      6098\n",
            "\n",
            "Confusion Matrix:\n",
            " [[5067  237]\n",
            " [ 363  431]]\n"
          ]
        }
      ],
      "source": [
        "# Random Forest Classifier\n",
        "rf_model = RandomForestClassifier(random_state=42)\n",
        "rf_model.fit(X_train, y_train)\n",
        "\n",
        "# Predictions\n",
        "rf_predictions = rf_model.predict(X_test)\n",
        "\n",
        "# Evaluate Random Forest model\n",
        "print(\"Random Forest Classifier:\")\n",
        "print(\"Accuracy:\", accuracy_score(y_test, rf_predictions))\n",
        "print(\"Classification Report:\\n\", classification_report(y_test, rf_predictions))\n",
        "print(\"Confusion Matrix:\\n\", confusion_matrix(y_test, rf_predictions))"
      ]
    }
  ],
  "metadata": {
    "kernelspec": {
      "display_name": "Python 3 (ipykernel)",
      "language": "python",
      "name": "python3"
    },
    "language_info": {
      "codemirror_mode": {
        "name": "ipython",
        "version": 3
      },
      "file_extension": ".py",
      "mimetype": "text/x-python",
      "name": "python",
      "nbconvert_exporter": "python",
      "pygments_lexer": "ipython3",
      "version": "3.9.7"
    },
    "colab": {
      "provenance": []
    }
  },
  "nbformat": 4,
  "nbformat_minor": 5
}